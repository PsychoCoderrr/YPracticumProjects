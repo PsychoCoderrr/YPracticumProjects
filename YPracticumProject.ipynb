{
 "cells": [
  {
   "cell_type": "markdown",
   "id": "3e014c65-6744-4f6b-88db-afc42a67cc94",
   "metadata": {},
   "source": [
    "# Напишите заголовок проекта здесь\n",
    "\n",
    "- Автор: Колдашев Виталий Андреевич\n",
    "- Дата: 20.12.2024\n",
    "- Ссылка на github: https://github.com/PsychoCoderrr/YPracticumProjects/blob/main/YPracticumProject.ipynb"
   ]
  },
  {
   "cell_type": "markdown",
   "id": "d274ce40-f4c5-4333-ad95-44dfa5147022",
   "metadata": {},
   "source": [
    "### Цели и задачи проекта\n",
    "\n",
    "\n",
    "- Загрузка и знакомство с данными: Проверить данные на соответствие описанию, наличие пропусков и корректность типов.\n",
    "- Предобработка данных: Привести названия столбцов к удобному формату, обработать пропуски, ошибки и дубликаты, преобразовать данные к корректным типам\n",
    "- Фильтрация данных: Отобрать игры, выпущенные в 2000–2013 годах.\n",
    "- Категоризация данных: Разделить игры по уровням оценок пользователей и критиков, определить топ-7 платформ по количеству выпущенных игр.\n",
    "- Итоговый вывод: Составить описание среза данных и новых добавленных полей, подготовить итоговую версию очищенного и обработанного датасета для анализа.\n",
    "\n"
   ]
  },
  {
   "cell_type": "markdown",
   "id": "6d3bab34-931b-485e-b528-8d9775eeb6af",
   "metadata": {},
   "source": [
    "### Описание данных\n",
    "\n",
    "- Name — название игры.\n",
    "- Platform — платформа, на которой выпущена игра.\n",
    "- Year of Release — год выпуска игры.\n",
    "- Genre — жанр игры.\n",
    "- NA sales — продажи в Северной Америке (в миллионах копий).\n",
    "- EU sales — продажи в Европе (в миллионах копий).\n",
    "- JP sales — продажи в Японии (в миллионах копий).\n",
    "- Other sales — продажи в других регионах (в миллионах копий).\n",
    "- Critic Score — оценка критиков (от 0 до 100).\n",
    "- User Score — оценка пользователей (от 0 до 10).\n",
    "- Rating — возрастной рейтинг по классификации ESRB."
   ]
  },
  {
   "cell_type": "markdown",
   "id": "95ab8e16-1e56-447a-b43f-4223f3e5b6fb",
   "metadata": {},
   "source": [
    "### Содержимое проекта\n",
    "\n",
    "- Загрузка и знакомство с данными\n",
    "- Предобработка данных\n",
    "- Фильтрация данных\n",
    "- Категоризация данных\n",
    "- Итоговый вывод"
   ]
  },
  {
   "cell_type": "markdown",
   "id": "dba89c37-a9de-4012-bd0c-6851e104811d",
   "metadata": {},
   "source": [
    "## 1. Загрузка данных и знакомство с ними\n",
    "\n"
   ]
  },
  {
   "cell_type": "code",
   "execution_count": 1,
   "id": "28403fb7-240a-4365-a48b-426bbccc566e",
   "metadata": {},
   "outputs": [],
   "source": [
    "import pandas as pd"
   ]
  },
  {
   "cell_type": "code",
   "execution_count": 2,
   "id": "e07a36b2-317f-4d27-8ff3-273ef3f321cf",
   "metadata": {},
   "outputs": [],
   "source": [
    "df_start_version = pd.read_csv('https://code.s3.yandex.net//datasets/new_games.csv')"
   ]
  },
  {
   "cell_type": "code",
   "execution_count": 3,
   "id": "b24c08f8-7684-4b23-a476-72d5bff6beaa",
   "metadata": {},
   "outputs": [
    {
     "data": {
      "text/html": [
       "<div>\n",
       "<style scoped>\n",
       "    .dataframe tbody tr th:only-of-type {\n",
       "        vertical-align: middle;\n",
       "    }\n",
       "\n",
       "    .dataframe tbody tr th {\n",
       "        vertical-align: top;\n",
       "    }\n",
       "\n",
       "    .dataframe thead th {\n",
       "        text-align: right;\n",
       "    }\n",
       "</style>\n",
       "<table border=\"1\" class=\"dataframe\">\n",
       "  <thead>\n",
       "    <tr style=\"text-align: right;\">\n",
       "      <th></th>\n",
       "      <th>Name</th>\n",
       "      <th>Platform</th>\n",
       "      <th>Year of Release</th>\n",
       "      <th>Genre</th>\n",
       "      <th>NA sales</th>\n",
       "      <th>EU sales</th>\n",
       "      <th>JP sales</th>\n",
       "      <th>Other sales</th>\n",
       "      <th>Critic Score</th>\n",
       "      <th>User Score</th>\n",
       "      <th>Rating</th>\n",
       "    </tr>\n",
       "  </thead>\n",
       "  <tbody>\n",
       "    <tr>\n",
       "      <th>0</th>\n",
       "      <td>Wii Sports</td>\n",
       "      <td>Wii</td>\n",
       "      <td>2006.0</td>\n",
       "      <td>Sports</td>\n",
       "      <td>41.36</td>\n",
       "      <td>28.96</td>\n",
       "      <td>3.77</td>\n",
       "      <td>8.45</td>\n",
       "      <td>76.0</td>\n",
       "      <td>8</td>\n",
       "      <td>E</td>\n",
       "    </tr>\n",
       "    <tr>\n",
       "      <th>1</th>\n",
       "      <td>Super Mario Bros.</td>\n",
       "      <td>NES</td>\n",
       "      <td>1985.0</td>\n",
       "      <td>Platform</td>\n",
       "      <td>29.08</td>\n",
       "      <td>3.58</td>\n",
       "      <td>6.81</td>\n",
       "      <td>0.77</td>\n",
       "      <td>NaN</td>\n",
       "      <td>NaN</td>\n",
       "      <td>NaN</td>\n",
       "    </tr>\n",
       "    <tr>\n",
       "      <th>2</th>\n",
       "      <td>Mario Kart Wii</td>\n",
       "      <td>Wii</td>\n",
       "      <td>2008.0</td>\n",
       "      <td>Racing</td>\n",
       "      <td>15.68</td>\n",
       "      <td>12.76</td>\n",
       "      <td>3.79</td>\n",
       "      <td>3.29</td>\n",
       "      <td>82.0</td>\n",
       "      <td>8.3</td>\n",
       "      <td>E</td>\n",
       "    </tr>\n",
       "    <tr>\n",
       "      <th>3</th>\n",
       "      <td>Wii Sports Resort</td>\n",
       "      <td>Wii</td>\n",
       "      <td>2009.0</td>\n",
       "      <td>Sports</td>\n",
       "      <td>15.61</td>\n",
       "      <td>10.93</td>\n",
       "      <td>3.28</td>\n",
       "      <td>2.95</td>\n",
       "      <td>80.0</td>\n",
       "      <td>8</td>\n",
       "      <td>E</td>\n",
       "    </tr>\n",
       "    <tr>\n",
       "      <th>4</th>\n",
       "      <td>Pokemon Red/Pokemon Blue</td>\n",
       "      <td>GB</td>\n",
       "      <td>1996.0</td>\n",
       "      <td>Role-Playing</td>\n",
       "      <td>11.27</td>\n",
       "      <td>8.89</td>\n",
       "      <td>10.22</td>\n",
       "      <td>1.00</td>\n",
       "      <td>NaN</td>\n",
       "      <td>NaN</td>\n",
       "      <td>NaN</td>\n",
       "    </tr>\n",
       "  </tbody>\n",
       "</table>\n",
       "</div>"
      ],
      "text/plain": [
       "                       Name Platform  Year of Release         Genre  NA sales  \\\n",
       "0                Wii Sports      Wii           2006.0        Sports     41.36   \n",
       "1         Super Mario Bros.      NES           1985.0      Platform     29.08   \n",
       "2            Mario Kart Wii      Wii           2008.0        Racing     15.68   \n",
       "3         Wii Sports Resort      Wii           2009.0        Sports     15.61   \n",
       "4  Pokemon Red/Pokemon Blue       GB           1996.0  Role-Playing     11.27   \n",
       "\n",
       "  EU sales JP sales  Other sales  Critic Score User Score Rating  \n",
       "0    28.96     3.77         8.45          76.0          8      E  \n",
       "1     3.58     6.81         0.77           NaN        NaN    NaN  \n",
       "2    12.76     3.79         3.29          82.0        8.3      E  \n",
       "3    10.93     3.28         2.95          80.0          8      E  \n",
       "4     8.89    10.22         1.00           NaN        NaN    NaN  "
      ]
     },
     "execution_count": 3,
     "metadata": {},
     "output_type": "execute_result"
    }
   ],
   "source": [
    "#вывод первых пяти строк датасета\n",
    "df_start_version.head()"
   ]
  },
  {
   "cell_type": "code",
   "execution_count": 4,
   "id": "d3f7bca8-dbc2-44ba-9cad-c957fc42b810",
   "metadata": {},
   "outputs": [
    {
     "name": "stdout",
     "output_type": "stream",
     "text": [
      "<class 'pandas.core.frame.DataFrame'>\n",
      "RangeIndex: 16956 entries, 0 to 16955\n",
      "Data columns (total 11 columns):\n",
      " #   Column           Non-Null Count  Dtype  \n",
      "---  ------           --------------  -----  \n",
      " 0   Name             16954 non-null  object \n",
      " 1   Platform         16956 non-null  object \n",
      " 2   Year of Release  16681 non-null  float64\n",
      " 3   Genre            16954 non-null  object \n",
      " 4   NA sales         16956 non-null  float64\n",
      " 5   EU sales         16956 non-null  object \n",
      " 6   JP sales         16956 non-null  object \n",
      " 7   Other sales      16956 non-null  float64\n",
      " 8   Critic Score     8242 non-null   float64\n",
      " 9   User Score       10152 non-null  object \n",
      " 10  Rating           10085 non-null  object \n",
      "dtypes: float64(4), object(7)\n",
      "memory usage: 1.4+ MB\n"
     ]
    }
   ],
   "source": [
    "df_start_version.info()"
   ]
  },
  {
   "cell_type": "markdown",
   "id": "3aa18ff7-5ee8-4ee1-aa48-2235fbf842db",
   "metadata": {},
   "source": [
    "Для анализа были предоставлены данные примерно на 16900 строк, в столбцах Critic Score, User Score и Rating можно заметить значительное кол-во пропущенных элементов"
   ]
  },
  {
   "cell_type": "markdown",
   "id": "10da64c0-bd28-4b6d-9b95-9c6fc5a23599",
   "metadata": {},
   "source": [
    "По моему мнению, названия столбцов в таблице достаточно понятно и правильно отражают суть данных, которые в них содержатся"
   ]
  },
  {
   "cell_type": "markdown",
   "id": "a2563493-fc9b-41bd-9d43-ceaa1d58ce8d",
   "metadata": {},
   "source": [
    "Но можно заметить, что в столбцах EU sales и JP sales используется неправильный тип данных, должен быть float64, а также в столбцах User Score и Rating должен быть тип данных float64"
   ]
  },
  {
   "cell_type": "code",
   "execution_count": null,
   "id": "f3c1fce7-703f-4156-a029-2d745245569e",
   "metadata": {},
   "outputs": [],
   "source": []
  }
 ],
 "metadata": {
  "kernelspec": {
   "display_name": "Python 3 (ipykernel)",
   "language": "python",
   "name": "python3"
  },
  "language_info": {
   "codemirror_mode": {
    "name": "ipython",
    "version": 3
   },
   "file_extension": ".py",
   "mimetype": "text/x-python",
   "name": "python",
   "nbconvert_exporter": "python",
   "pygments_lexer": "ipython3",
   "version": "3.13.1"
  }
 },
 "nbformat": 4,
 "nbformat_minor": 5
}
