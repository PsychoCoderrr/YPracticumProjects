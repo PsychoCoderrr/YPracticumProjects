{
 "cells": [
  {
   "cell_type": "markdown",
   "id": "3e014c65-6744-4f6b-88db-afc42a67cc94",
   "metadata": {},
   "source": [
    "# Напишите заголовок проекта здесь\n",
    "\n",
    "- Автор: Колдашев Виталий Андреевич\n",
    "- Дата: 20.12.2024\n",
    "- Ссылка на github: https://github.com/PsychoCoderrr/YPracticumProjects/blob/main/YPracticumProject.ipynb"
   ]
  },
  {
   "cell_type": "markdown",
   "id": "d274ce40-f4c5-4333-ad95-44dfa5147022",
   "metadata": {},
   "source": [
    "### Цели и задачи проекта\n",
    "\n",
    "\n",
    "- Загрузка и знакомство с данными: Проверить данные на соответствие описанию, наличие пропусков и корректность типов.\n",
    "- Предобработка данных: Привести названия столбцов к удобному формату, обработать пропуски, ошибки и дубликаты, преобразовать данные к корректным типам\n",
    "- Фильтрация данных: Отобрать игры, выпущенные в 2000–2013 годах.\n",
    "- Категоризация данных: Разделить игры по уровням оценок пользователей и критиков, определить топ-7 платформ по количеству выпущенных игр.\n",
    "- Итоговый вывод: Составить описание среза данных и новых добавленных полей, подготовить итоговую версию очищенного и обработанного датасета для анализа.\n",
    "\n"
   ]
  },
  {
   "cell_type": "markdown",
   "id": "6d3bab34-931b-485e-b528-8d9775eeb6af",
   "metadata": {},
   "source": [
    "### Описание данных\n",
    "\n",
    "- Name — название игры.\n",
    "- Platform — платформа, на которой выпущена игра.\n",
    "- Year of Release — год выпуска игры.\n",
    "- Genre — жанр игры.\n",
    "- NA sales — продажи в Северной Америке (в миллионах копий).\n",
    "- EU sales — продажи в Европе (в миллионах копий).\n",
    "- JP sales — продажи в Японии (в миллионах копий).\n",
    "- Other sales — продажи в других регионах (в миллионах копий).\n",
    "- Critic Score — оценка критиков (от 0 до 100).\n",
    "- User Score — оценка пользователей (от 0 до 10).\n",
    "- Rating — возрастной рейтинг по классификации ESRB."
   ]
  },
  {
   "cell_type": "markdown",
   "id": "95ab8e16-1e56-447a-b43f-4223f3e5b6fb",
   "metadata": {},
   "source": [
    "### Содержимое проекта\n",
    "\n",
    "- Загрузка и знакомство с данными\n",
    "- Предобработка данных\n",
    "- Фильтрация данных\n",
    "- Категоризация данных\n",
    "- Итоговый вывод"
   ]
  },
  {
   "cell_type": "markdown",
   "id": "dba89c37-a9de-4012-bd0c-6851e104811d",
   "metadata": {},
   "source": [
    "## 1. Загрузка данных и знакомство с ними\n",
    "\n"
   ]
  },
  {
   "cell_type": "code",
   "execution_count": 1,
   "id": "28403fb7-240a-4365-a48b-426bbccc566e",
   "metadata": {},
   "outputs": [],
   "source": [
    "import pandas as pd"
   ]
  },
  {
   "cell_type": "code",
   "execution_count": 2,
   "id": "e07a36b2-317f-4d27-8ff3-273ef3f321cf",
   "metadata": {},
   "outputs": [],
   "source": [
    "df_start_version = pd.read_csv('https://code.s3.yandex.net//datasets/new_games.csv')"
   ]
  },
  {
   "cell_type": "code",
   "execution_count": 3,
   "id": "b24c08f8-7684-4b23-a476-72d5bff6beaa",
   "metadata": {},
   "outputs": [
    {
     "data": {
      "text/html": [
       "<div>\n",
       "<style scoped>\n",
       "    .dataframe tbody tr th:only-of-type {\n",
       "        vertical-align: middle;\n",
       "    }\n",
       "\n",
       "    .dataframe tbody tr th {\n",
       "        vertical-align: top;\n",
       "    }\n",
       "\n",
       "    .dataframe thead th {\n",
       "        text-align: right;\n",
       "    }\n",
       "</style>\n",
       "<table border=\"1\" class=\"dataframe\">\n",
       "  <thead>\n",
       "    <tr style=\"text-align: right;\">\n",
       "      <th></th>\n",
       "      <th>Name</th>\n",
       "      <th>Platform</th>\n",
       "      <th>Year of Release</th>\n",
       "      <th>Genre</th>\n",
       "      <th>NA sales</th>\n",
       "      <th>EU sales</th>\n",
       "      <th>JP sales</th>\n",
       "      <th>Other sales</th>\n",
       "      <th>Critic Score</th>\n",
       "      <th>User Score</th>\n",
       "      <th>Rating</th>\n",
       "    </tr>\n",
       "  </thead>\n",
       "  <tbody>\n",
       "    <tr>\n",
       "      <th>0</th>\n",
       "      <td>Wii Sports</td>\n",
       "      <td>Wii</td>\n",
       "      <td>2006.0</td>\n",
       "      <td>Sports</td>\n",
       "      <td>41.36</td>\n",
       "      <td>28.96</td>\n",
       "      <td>3.77</td>\n",
       "      <td>8.45</td>\n",
       "      <td>76.0</td>\n",
       "      <td>8</td>\n",
       "      <td>E</td>\n",
       "    </tr>\n",
       "    <tr>\n",
       "      <th>1</th>\n",
       "      <td>Super Mario Bros.</td>\n",
       "      <td>NES</td>\n",
       "      <td>1985.0</td>\n",
       "      <td>Platform</td>\n",
       "      <td>29.08</td>\n",
       "      <td>3.58</td>\n",
       "      <td>6.81</td>\n",
       "      <td>0.77</td>\n",
       "      <td>NaN</td>\n",
       "      <td>NaN</td>\n",
       "      <td>NaN</td>\n",
       "    </tr>\n",
       "    <tr>\n",
       "      <th>2</th>\n",
       "      <td>Mario Kart Wii</td>\n",
       "      <td>Wii</td>\n",
       "      <td>2008.0</td>\n",
       "      <td>Racing</td>\n",
       "      <td>15.68</td>\n",
       "      <td>12.76</td>\n",
       "      <td>3.79</td>\n",
       "      <td>3.29</td>\n",
       "      <td>82.0</td>\n",
       "      <td>8.3</td>\n",
       "      <td>E</td>\n",
       "    </tr>\n",
       "    <tr>\n",
       "      <th>3</th>\n",
       "      <td>Wii Sports Resort</td>\n",
       "      <td>Wii</td>\n",
       "      <td>2009.0</td>\n",
       "      <td>Sports</td>\n",
       "      <td>15.61</td>\n",
       "      <td>10.93</td>\n",
       "      <td>3.28</td>\n",
       "      <td>2.95</td>\n",
       "      <td>80.0</td>\n",
       "      <td>8</td>\n",
       "      <td>E</td>\n",
       "    </tr>\n",
       "    <tr>\n",
       "      <th>4</th>\n",
       "      <td>Pokemon Red/Pokemon Blue</td>\n",
       "      <td>GB</td>\n",
       "      <td>1996.0</td>\n",
       "      <td>Role-Playing</td>\n",
       "      <td>11.27</td>\n",
       "      <td>8.89</td>\n",
       "      <td>10.22</td>\n",
       "      <td>1.00</td>\n",
       "      <td>NaN</td>\n",
       "      <td>NaN</td>\n",
       "      <td>NaN</td>\n",
       "    </tr>\n",
       "  </tbody>\n",
       "</table>\n",
       "</div>"
      ],
      "text/plain": [
       "                       Name Platform  Year of Release         Genre  NA sales  \\\n",
       "0                Wii Sports      Wii           2006.0        Sports     41.36   \n",
       "1         Super Mario Bros.      NES           1985.0      Platform     29.08   \n",
       "2            Mario Kart Wii      Wii           2008.0        Racing     15.68   \n",
       "3         Wii Sports Resort      Wii           2009.0        Sports     15.61   \n",
       "4  Pokemon Red/Pokemon Blue       GB           1996.0  Role-Playing     11.27   \n",
       "\n",
       "  EU sales JP sales  Other sales  Critic Score User Score Rating  \n",
       "0    28.96     3.77         8.45          76.0          8      E  \n",
       "1     3.58     6.81         0.77           NaN        NaN    NaN  \n",
       "2    12.76     3.79         3.29          82.0        8.3      E  \n",
       "3    10.93     3.28         2.95          80.0          8      E  \n",
       "4     8.89    10.22         1.00           NaN        NaN    NaN  "
      ]
     },
     "execution_count": 3,
     "metadata": {},
     "output_type": "execute_result"
    }
   ],
   "source": [
    "#вывод первых пяти строк датасета\n",
    "df_start_version.head()"
   ]
  },
  {
   "cell_type": "code",
   "execution_count": 4,
   "id": "d3f7bca8-dbc2-44ba-9cad-c957fc42b810",
   "metadata": {},
   "outputs": [
    {
     "name": "stdout",
     "output_type": "stream",
     "text": [
      "<class 'pandas.core.frame.DataFrame'>\n",
      "RangeIndex: 16956 entries, 0 to 16955\n",
      "Data columns (total 11 columns):\n",
      " #   Column           Non-Null Count  Dtype  \n",
      "---  ------           --------------  -----  \n",
      " 0   Name             16954 non-null  object \n",
      " 1   Platform         16956 non-null  object \n",
      " 2   Year of Release  16681 non-null  float64\n",
      " 3   Genre            16954 non-null  object \n",
      " 4   NA sales         16956 non-null  float64\n",
      " 5   EU sales         16956 non-null  object \n",
      " 6   JP sales         16956 non-null  object \n",
      " 7   Other sales      16956 non-null  float64\n",
      " 8   Critic Score     8242 non-null   float64\n",
      " 9   User Score       10152 non-null  object \n",
      " 10  Rating           10085 non-null  object \n",
      "dtypes: float64(4), object(7)\n",
      "memory usage: 1.4+ MB\n"
     ]
    }
   ],
   "source": [
    "df_start_version.info()"
   ]
  },
  {
   "cell_type": "code",
   "execution_count": 5,
   "id": "9ce7b751-6fca-49f8-bfba-8e062e38f43c",
   "metadata": {},
   "outputs": [],
   "source": [
    "row_count_start = df_start_version.shape[0] #будет использоваться в дальнейшем"
   ]
  },
  {
   "cell_type": "markdown",
   "id": "3aa18ff7-5ee8-4ee1-aa48-2235fbf842db",
   "metadata": {},
   "source": [
    "Для анализа были предоставлены данные примерно на 16900 строк, в столбцах Critic Score, User Score и Rating можно заметить значительное кол-во пропущенных элементов"
   ]
  },
  {
   "cell_type": "markdown",
   "id": "10da64c0-bd28-4b6d-9b95-9c6fc5a23599",
   "metadata": {},
   "source": [
    "По моему мнению, названия столбцов в таблице достаточно понятно и правильно отражают суть данных, которые в них содержатся"
   ]
  },
  {
   "cell_type": "markdown",
   "id": "a2563493-fc9b-41bd-9d43-ceaa1d58ce8d",
   "metadata": {},
   "source": [
    "Но можно заметить, что в столбцах EU sales и JP sales используется неправильный тип данных, должен быть float64, а также в столбце User Score должен быть тип данных float64"
   ]
  },
  {
   "cell_type": "markdown",
   "id": "f6eb34e2-d936-48e9-ae61-aea21216ddbe",
   "metadata": {},
   "source": [
    "## 2.  Проверка ошибок в данных и их предобработка\n",
    "\n",
    "\n",
    "### 2.1. Названия, или метки, столбцов датафрейма\n",
    "\n",
    "- Выведите на экран названия всех столбцов датафрейма и проверьте их стиль написания.\n",
    "- Приведите все столбцы к стилю snake case. Названия должны быть в нижнем регистре, а вместо пробелов — подчёркивания."
   ]
  },
  {
   "cell_type": "code",
   "execution_count": 6,
   "id": "9b8dbf99-cfaf-46cd-bfec-dd62038c7fe6",
   "metadata": {},
   "outputs": [
    {
     "data": {
      "text/plain": [
       "Index(['Name', 'Platform', 'Year of Release', 'Genre', 'NA sales', 'EU sales',\n",
       "       'JP sales', 'Other sales', 'Critic Score', 'User Score', 'Rating'],\n",
       "      dtype='object')"
      ]
     },
     "execution_count": 6,
     "metadata": {},
     "output_type": "execute_result"
    }
   ],
   "source": [
    "df_start_version.columns"
   ]
  },
  {
   "cell_type": "markdown",
   "id": "fc97d7ee-14b1-41e6-8b1b-1f028265962c",
   "metadata": {},
   "source": [
    "Названия столбцов корректны, однако их требуется привести к стилю snake case"
   ]
  },
  {
   "cell_type": "code",
   "execution_count": 7,
   "id": "0b7e2e39-07d3-43c9-8328-c3b18625fde1",
   "metadata": {},
   "outputs": [
    {
     "data": {
      "text/plain": [
       "Index(['name', 'platform', 'year_of_release', 'genre', 'na_sales', 'eu_sales',\n",
       "       'jp_sales', 'other_sales', 'critic_score', 'user_score', 'rating'],\n",
       "      dtype='object')"
      ]
     },
     "execution_count": 7,
     "metadata": {},
     "output_type": "execute_result"
    }
   ],
   "source": [
    "#переименование столбцов и проверка того, что теперь столбцы называны корректно\n",
    "columns_snake_case = ['name', 'platform', 'year_of_release', 'genre', 'na_sales', 'eu_sales', 'jp_sales', 'other_sales'\n",
    ", 'critic_score', 'user_score', 'rating']\n",
    "df_start_version.columns = columns_snake_case\n",
    "df_start_version.columns"
   ]
  },
  {
   "cell_type": "markdown",
   "id": "7052d689-b3ca-4b4f-b465-323d71957d1b",
   "metadata": {},
   "source": [
    "### 2.2. Типы данных\n",
    "\n",
    "- Если встречаются некорректные типы данных, предположите их причины.\n",
    "- При необходимости проведите преобразование типов данных. Помните, что столбцы с числовыми данными и пропусками нельзя преобразовать к типу `int64`. Сначала вам понадобится обработать пропуски, а затем преобразовать типы данных."
   ]
  },
  {
   "cell_type": "markdown",
   "id": "b24fb68d-c12f-42aa-8e96-8537dfb69fac",
   "metadata": {},
   "source": [
    "Общее кол-во строк и кол-во значений в столбцах na_sales, eu_sales, jp_sales и other_sales совпадают, это означает, что в этих столбцах нет пропусков, однако в них могут строковые значения по типы unknown, следовательно будем приводить к типу float64, чтобы оставить пропуски на месте этих значений"
   ]
  },
  {
   "cell_type": "code",
   "execution_count": 8,
   "id": "9bb3a759-7873-45b5-9310-530a4b309b1f",
   "metadata": {},
   "outputs": [],
   "source": [
    "#замена типов данных в столбцах eu_sales, jp_sales и na_sales\n",
    "df_start_version['eu_sales'] = pd.to_numeric(df_start_version['eu_sales'], errors='coerce')\n",
    "df_start_version['jp_sales'] = pd.to_numeric(df_start_version['jp_sales'], errors='coerce')\n",
    "df_start_version['na_sales'] = pd.to_numeric(df_start_version['na_sales'], errors='coerce')\n"
   ]
  },
  {
   "cell_type": "markdown",
   "id": "9d4dea78-2294-48b2-82b9-f77ae9f8c489",
   "metadata": {},
   "source": [
    "Также изменим тип данных в столбце user_score"
   ]
  },
  {
   "cell_type": "code",
   "execution_count": 9,
   "id": "abecf91f-6005-4260-9244-f5683adc02fe",
   "metadata": {},
   "outputs": [
    {
     "name": "stdout",
     "output_type": "stream",
     "text": [
      "<class 'pandas.core.frame.DataFrame'>\n",
      "RangeIndex: 16956 entries, 0 to 16955\n",
      "Data columns (total 11 columns):\n",
      " #   Column           Non-Null Count  Dtype  \n",
      "---  ------           --------------  -----  \n",
      " 0   name             16954 non-null  object \n",
      " 1   platform         16956 non-null  object \n",
      " 2   year_of_release  16681 non-null  float64\n",
      " 3   genre            16954 non-null  object \n",
      " 4   na_sales         16956 non-null  float64\n",
      " 5   eu_sales         16950 non-null  float64\n",
      " 6   jp_sales         16952 non-null  float64\n",
      " 7   other_sales      16956 non-null  float64\n",
      " 8   critic_score     8242 non-null   float64\n",
      " 9   user_score       7688 non-null   float64\n",
      " 10  rating           10085 non-null  object \n",
      "dtypes: float64(7), object(4)\n",
      "memory usage: 1.4+ MB\n"
     ]
    }
   ],
   "source": [
    "#замена типов данных в столбце user_score\n",
    "df_start_version['user_score'] = pd.to_numeric(df_start_version['user_score'], errors='coerce')\n",
    "#проверка корректной смены данных\n",
    "df_start_version.info()"
   ]
  },
  {
   "cell_type": "markdown",
   "id": "0921b0d5-dd9e-4b01-aff5-b4b5070bb7c7",
   "metadata": {},
   "source": [
    "### 2.3. Наличие пропусков в данных\n",
    "\n",
    "- Посчитайте количество пропусков в каждом столбце в абсолютных и относительных значениях."
   ]
  },
  {
   "cell_type": "code",
   "execution_count": 10,
   "id": "b792e520-f5e6-4c9c-9608-15816583630e",
   "metadata": {},
   "outputs": [
    {
     "data": {
      "text/plain": [
       "name                  2\n",
       "platform              0\n",
       "year_of_release     275\n",
       "genre                 2\n",
       "na_sales              0\n",
       "eu_sales              6\n",
       "jp_sales              4\n",
       "other_sales           0\n",
       "critic_score       8714\n",
       "user_score         9268\n",
       "rating             6871\n",
       "dtype: int64"
      ]
     },
     "execution_count": 10,
     "metadata": {},
     "output_type": "execute_result"
    }
   ],
   "source": [
    "missing_absolute = df_start_version.isna().sum()\n",
    "missing_absolute"
   ]
  },
  {
   "cell_type": "code",
   "execution_count": 11,
   "id": "18156b89-ef20-442b-a331-04de31e56450",
   "metadata": {},
   "outputs": [
    {
     "data": {
      "text/plain": [
       "name                0.011795\n",
       "platform            0.000000\n",
       "year_of_release     1.621845\n",
       "genre               0.011795\n",
       "na_sales            0.000000\n",
       "eu_sales            0.035386\n",
       "jp_sales            0.023590\n",
       "other_sales         0.000000\n",
       "critic_score       51.391838\n",
       "user_score         54.659118\n",
       "rating             40.522529\n",
       "dtype: float64"
      ]
     },
     "execution_count": 11,
     "metadata": {},
     "output_type": "execute_result"
    }
   ],
   "source": [
    "missing_relative = df_start_version.isna().sum() / len(df_start_version) * 100\n",
    "missing_relative"
   ]
  },
  {
   "cell_type": "markdown",
   "id": "705a277a-8c4c-4a4f-b8b4-c6271169f63a",
   "metadata": {},
   "source": [
    "Количество пропусков в столбцах name, year_of_realese, genre, eu_sales, jp_sales очень малы, поэтому строки с пропусками в данных столбцах можно просто удалить, это не сильно повлияет на итоговый результат, скорее всего эти пропуски связаны с невнимательностью заполнения, а для каких-то игр неизвестностью данных."
   ]
  },
  {
   "cell_type": "code",
   "execution_count": 12,
   "id": "861c4fb5-bb87-4184-98ea-3017134b0998",
   "metadata": {},
   "outputs": [],
   "source": [
    "df_start_version = df_start_version.dropna(subset=['name', 'year_of_release', 'genre', 'eu_sales', 'jp_sales'])"
   ]
  },
  {
   "cell_type": "markdown",
   "id": "a391c710-f3ee-4abe-8d8f-de28d8ffd02d",
   "metadata": {},
   "source": [
    "Осталось обработать пропуски в столбцах critic_score, user_score и rating. Я бы использовал здесь индикаторы, в столбцах critic_score, user_score я бы использовал индикатор -1, так как рейтинг не может быть отрицательным, а в rating я бы использовал индикатор unknown"
   ]
  },
  {
   "cell_type": "code",
   "execution_count": 13,
   "id": "6ef133ca-5c5e-404f-b6a5-f9d1dfefc4e4",
   "metadata": {},
   "outputs": [
    {
     "name": "stdout",
     "output_type": "stream",
     "text": [
      "<class 'pandas.core.frame.DataFrame'>\n",
      "Index: 16669 entries, 0 to 16955\n",
      "Data columns (total 11 columns):\n",
      " #   Column           Non-Null Count  Dtype  \n",
      "---  ------           --------------  -----  \n",
      " 0   name             16669 non-null  object \n",
      " 1   platform         16669 non-null  object \n",
      " 2   year_of_release  16669 non-null  float64\n",
      " 3   genre            16669 non-null  object \n",
      " 4   na_sales         16669 non-null  float64\n",
      " 5   eu_sales         16669 non-null  float64\n",
      " 6   jp_sales         16669 non-null  float64\n",
      " 7   other_sales      16669 non-null  float64\n",
      " 8   critic_score     16669 non-null  float64\n",
      " 9   user_score       16669 non-null  float64\n",
      " 10  rating           16669 non-null  object \n",
      "dtypes: float64(7), object(4)\n",
      "memory usage: 1.5+ MB\n"
     ]
    }
   ],
   "source": [
    "df_start_version['critic_score'] = df_start_version['critic_score'].fillna(-1)\n",
    "df_start_version['user_score'] = df_start_version['user_score'].fillna(-1)\n",
    "df_start_version['rating'] = df_start_version['rating'].fillna('unknown')\n",
    "#вывод информации для проверки корректности проведения операций с пропусками\n",
    "df_start_version.info()"
   ]
  },
  {
   "cell_type": "markdown",
   "id": "eb72a9b9-b5e7-4b69-afb6-3ed0650229f9",
   "metadata": {},
   "source": [
    "после проведенной работы с пропусками видим, что пропусков не осталось"
   ]
  },
  {
   "cell_type": "markdown",
   "id": "906f86c4-373d-4779-ac89-17d9fdc7ae8f",
   "metadata": {},
   "source": [
    "### 2.4. Явные и неявные дубликаты в данных\n",
    "\n",
    "- Изучите уникальные значения в категориальных данных, например с названиями жанра игры, платформы, рейтинга и года выпуска. Проверьте, встречаются ли среди данных неявные дубликаты, связанные с опечатками или разным способом написания.\n",
    "- При необходимости проведите нормализацию данных с текстовыми значениями. Названия или жанры игр можно привести к нижнему регистру, а названия рейтинга — к верхнему."
   ]
  },
  {
   "cell_type": "code",
   "execution_count": 14,
   "id": "9fda21ee-d6bf-4d18-a2bb-4cbb0db05a84",
   "metadata": {},
   "outputs": [
    {
     "data": {
      "text/plain": [
       "array(['Sports', 'Platform', 'Racing', 'Role-Playing', 'Puzzle', 'Misc',\n",
       "       'Shooter', 'Simulation', 'Action', 'Fighting', 'Adventure',\n",
       "       'Strategy', 'MISC', 'ROLE-PLAYING', 'RACING', 'ACTION', 'SHOOTER',\n",
       "       'FIGHTING', 'SPORTS', 'PLATFORM', 'ADVENTURE', 'SIMULATION',\n",
       "       'PUZZLE', 'STRATEGY'], dtype=object)"
      ]
     },
     "execution_count": 14,
     "metadata": {},
     "output_type": "execute_result"
    }
   ],
   "source": [
    "unique_name = df_start_version['genre'].unique()\n",
    "unique_name"
   ]
  },
  {
   "cell_type": "code",
   "execution_count": 15,
   "id": "b064e708-ecd3-4ee4-b188-7ff91b571fb7",
   "metadata": {},
   "outputs": [
    {
     "data": {
      "text/plain": [
       "array(['Wii', 'NES', 'GB', 'DS', 'X360', 'PS3', 'PS2', 'SNES', 'GBA',\n",
       "       'PS4', '3DS', 'N64', 'PS', 'XB', 'PC', '2600', 'PSP', 'XOne',\n",
       "       'WiiU', 'GC', 'GEN', 'DC', 'PSV', 'SAT', 'SCD', 'WS', 'NG', 'TG16',\n",
       "       '3DO', 'GG', 'PCFX'], dtype=object)"
      ]
     },
     "execution_count": 15,
     "metadata": {},
     "output_type": "execute_result"
    }
   ],
   "source": [
    "unique_name = df_start_version['platform'].unique()\n",
    "unique_name"
   ]
  },
  {
   "cell_type": "code",
   "execution_count": 16,
   "id": "999d8521-c228-486b-bef7-79f413290018",
   "metadata": {},
   "outputs": [
    {
     "data": {
      "text/plain": [
       "array(['E', 'unknown', 'M', 'T', 'E10+', 'K-A', 'AO', 'EC', 'RP'],\n",
       "      dtype=object)"
      ]
     },
     "execution_count": 16,
     "metadata": {},
     "output_type": "execute_result"
    }
   ],
   "source": [
    "unique_name = df_start_version['rating'].unique()\n",
    "unique_name"
   ]
  },
  {
   "cell_type": "markdown",
   "id": "bb5eabf9-41a9-430d-a957-f21b5aa9484b",
   "metadata": {},
   "source": [
    "После анализа видно, что неявное дублирование есть в столбце genre, следовательно в этом столбце надо привести данные к верхнему регистру"
   ]
  },
  {
   "cell_type": "code",
   "execution_count": 17,
   "id": "a9902fda-b5ee-4dee-a68f-01e314634d34",
   "metadata": {},
   "outputs": [],
   "source": [
    "df_start_version['genre'] = df_start_version['genre'].str.upper()"
   ]
  },
  {
   "cell_type": "code",
   "execution_count": 18,
   "id": "00666c80-9ea4-4e6b-a41f-a5398f60b2dd",
   "metadata": {},
   "outputs": [
    {
     "name": "stdout",
     "output_type": "stream",
     "text": [
      "<class 'pandas.core.frame.DataFrame'>\n",
      "Index: 16434 entries, 0 to 16955\n",
      "Data columns (total 11 columns):\n",
      " #   Column           Non-Null Count  Dtype  \n",
      "---  ------           --------------  -----  \n",
      " 0   name             16434 non-null  object \n",
      " 1   platform         16434 non-null  object \n",
      " 2   year_of_release  16434 non-null  float64\n",
      " 3   genre            16434 non-null  object \n",
      " 4   na_sales         16434 non-null  float64\n",
      " 5   eu_sales         16434 non-null  float64\n",
      " 6   jp_sales         16434 non-null  float64\n",
      " 7   other_sales      16434 non-null  float64\n",
      " 8   critic_score     16434 non-null  float64\n",
      " 9   user_score       16434 non-null  float64\n",
      " 10  rating           16434 non-null  object \n",
      "dtypes: float64(7), object(4)\n",
      "memory usage: 1.5+ MB\n"
     ]
    }
   ],
   "source": [
    "df_start_version = df_start_version.drop_duplicates()\n",
    "df_start_version.info()"
   ]
  },
  {
   "cell_type": "code",
   "execution_count": 19,
   "id": "fa4e2de0-f000-4e5a-8703-9be306bd8f1b",
   "metadata": {},
   "outputs": [],
   "source": [
    "row_count_final = df_start_version.shape[0]"
   ]
  },
  {
   "cell_type": "code",
   "execution_count": 20,
   "id": "10778df1-417f-4a5b-bddf-1e5178e16c81",
   "metadata": {},
   "outputs": [
    {
     "data": {
      "text/plain": [
       "522"
      ]
     },
     "execution_count": 20,
     "metadata": {},
     "output_type": "execute_result"
    }
   ],
   "source": [
    "absolute_cleaned_rows = row_count_start - row_count_final\n",
    "absolute_cleaned_rows"
   ]
  },
  {
   "cell_type": "code",
   "execution_count": 21,
   "id": "97e5cceb-be93-47c5-a829-b0f1d39700b2",
   "metadata": {},
   "outputs": [
    {
     "data": {
      "text/plain": [
       "3.0785562632696393"
      ]
     },
     "execution_count": 21,
     "metadata": {},
     "output_type": "execute_result"
    }
   ],
   "source": [
    "relative_cleaned_rows = (absolute_cleaned_rows / row_count_start) * 100 #получаю ответ в процентах\n",
    "relative_cleaned_rows"
   ]
  }
 ],
 "metadata": {
  "kernelspec": {
   "display_name": "Python 3 (ipykernel)",
   "language": "python",
   "name": "python3"
  },
  "language_info": {
   "codemirror_mode": {
    "name": "ipython",
    "version": 3
   },
   "file_extension": ".py",
   "mimetype": "text/x-python",
   "name": "python",
   "nbconvert_exporter": "python",
   "pygments_lexer": "ipython3",
   "version": "3.13.1"
  }
 },
 "nbformat": 4,
 "nbformat_minor": 5
}
