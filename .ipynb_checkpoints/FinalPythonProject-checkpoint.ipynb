{
 "cells": [
  {
   "cell_type": "markdown",
   "id": "e46b62b4-6e2c-4f30-994c-472c12ef3797",
   "metadata": {},
   "source": [
    "# Проект: Исследование стартапов"
   ]
  },
  {
   "cell_type": "markdown",
   "id": "0ba249ae-af40-4522-ba38-1b81533477a1",
   "metadata": {},
   "source": [
    "* Автор: Колдашев Виталий Андреевич\n",
    "* Дата: 07.02.2025\n",
    "* Ссылка на GitHub: https://github.com/PsychoCoderrr/YPracticumProjects/blob/main/FinalPythonProject.ipynb"
   ]
  },
  {
   "cell_type": "markdown",
   "id": "80795e6c-1930-4b53-8bed-a481391aa1f7",
   "metadata": {},
   "source": [
    "## Введение"
   ]
  },
  {
   "cell_type": "markdown",
   "id": "4c6a324b-f844-4463-9a62-d927d26619a2",
   "metadata": {},
   "source": [
    "Стартапы играют ключевую роль в инновационной экономике, привлекая инвестиции, развивая технологии и создавая новые рынки. Однако не все стартапы успешно проходят путь от идеи до устойчивого бизнеса, и многие из них сталкиваются с трудностями в поиске финансирования, найме специалистов и выборе стратегии развития.\n",
    "\n",
    "Цель данного исследования — проанализировать данные о стартапах, их финансировании и сотрудниках, чтобы выявить закономерности, влияющие на успешность компаний. В рамках проекта будет проведена предобработка и исследование нескольких датасетов, включающих информацию о раундах инвестиций, составе команд, образовании сотрудников и статусе компаний.\n",
    "\n",
    "Основные задачи исследования:\n",
    "* Оценить объем и динамику финансирования стартапов по годам.\n",
    "* Изучить связь между размером компании и полнотой информации о сотрудниках.\n",
    "* Проверить возможность объединения данных по ключевым параметрам.\n",
    "* Проанализировать выбросы в данных, связанные с финансированием и продажей компаний.\n",
    "* Исследовать, сколько раундов финансирования проходит стартап перед приобретением.\n",
    "\n",
    "Результаты анализа помогут определить факторы, способствующие успеху стартапов, а также дадут представление о типичных инвестиционных тенденциях. Полученные выводы могут быть полезны как инвесторам, так и самим стартапам при принятии стратегических решений."
   ]
  },
  {
   "cell_type": "markdown",
   "id": "a8509ac1-f229-4130-8453-790d493af4da",
   "metadata": {},
   "source": [
    "## Шаг 1. Знакомство с данными: загрузка и первичная предобработка"
   ]
  },
  {
   "cell_type": "markdown",
   "id": "9abafd07-9841-4fc3-9b58-4e48475bc005",
   "metadata": {},
   "source": [
    "### Загрузка данных"
   ]
  },
  {
   "cell_type": "code",
   "execution_count": 1,
   "id": "07ab9596-4090-4730-959c-9ab0b3dd9f9f",
   "metadata": {},
   "outputs": [
    {
     "name": "stdout",
     "output_type": "stream",
     "text": [
      "zsh:1: command not found: pip\n",
      "zsh:1: command not found: pip\n"
     ]
    }
   ],
   "source": [
    "!pip install phik -U\n",
    "!pip install pandas -U"
   ]
  },
  {
   "cell_type": "code",
   "execution_count": 2,
   "id": "5f9e2091-7cac-4d24-9d5b-09448e4a99b6",
   "metadata": {},
   "outputs": [],
   "source": [
    "import pandas as pd\n",
    "import matplotlib.pyplot as plt\n",
    "import seaborn as sns"
   ]
  },
  {
   "cell_type": "code",
   "execution_count": 3,
   "id": "de0bf2fa-af8d-422d-b261-908f2ee81f46",
   "metadata": {},
   "outputs": [],
   "source": [
    "df_acquisition = pd.read_csv('https://code.s3.yandex.net/datasets/acquisition.csv')"
   ]
  },
  {
   "cell_type": "code",
   "execution_count": 4,
   "id": "30726b8c-80db-49cc-b2c2-5527322e20b4",
   "metadata": {},
   "outputs": [],
   "source": [
    "df_company = pd.read_csv('https://code.s3.yandex.net/datasets/company_and_rounds.csv')"
   ]
  },
  {
   "cell_type": "code",
   "execution_count": 5,
   "id": "ba182ae3-a4ad-44bb-9b16-f671a545b469",
   "metadata": {},
   "outputs": [],
   "source": [
    "df_degrees = pd.read_csv('https://code.s3.yandex.net/datasets/degrees.csv')"
   ]
  },
  {
   "cell_type": "code",
   "execution_count": 6,
   "id": "2c6be994-64f1-4770-980a-cd34d2269c0b",
   "metadata": {},
   "outputs": [],
   "source": [
    "df_education = pd.read_csv('https://code.s3.yandex.net/datasets/education.csv')"
   ]
  },
  {
   "cell_type": "code",
   "execution_count": 7,
   "id": "9a21ee94-b43f-4c81-aec4-a9dd1219d555",
   "metadata": {},
   "outputs": [],
   "source": [
    "df_fund = pd.read_csv('https://code.s3.yandex.net/datasets/fund.csv')"
   ]
  },
  {
   "cell_type": "code",
   "execution_count": 8,
   "id": "0f36ce04-d5a7-4729-975e-4cd053df5e97",
   "metadata": {},
   "outputs": [],
   "source": [
    "df_investment = pd.read_csv('https://code.s3.yandex.net/datasets/investment.csv')"
   ]
  },
  {
   "cell_type": "code",
   "execution_count": null,
   "id": "5ffc2249-7675-48da-9b67-0bc54c121184",
   "metadata": {},
   "outputs": [],
   "source": [
    "df_people = pd.read_csv('https://code.s3.yandex.net/datasets/people.csv')"
   ]
  },
  {
   "cell_type": "markdown",
   "id": "abe47d5f-1612-4882-97ef-f9d903aee663",
   "metadata": {},
   "source": [
    "### 1.1. Вывод общей информации, исправление названия столбцов"
   ]
  },
  {
   "cell_type": "code",
   "execution_count": null,
   "id": "30a55fbc-ceee-4b1f-95e0-52c4de4d692c",
   "metadata": {},
   "outputs": [],
   "source": [
    "df_acquisition.info()"
   ]
  },
  {
   "cell_type": "code",
   "execution_count": null,
   "id": "8ea2076b-4e7d-4475-9059-b2baf3468117",
   "metadata": {},
   "outputs": [],
   "source": [
    "df_acquisition.head()"
   ]
  },
  {
   "cell_type": "code",
   "execution_count": null,
   "id": "34ed0a6d-801e-4d4a-856f-811280acac41",
   "metadata": {},
   "outputs": [],
   "source": [
    "df_company.info()"
   ]
  },
  {
   "cell_type": "code",
   "execution_count": null,
   "id": "8835d78b-03fb-4716-9464-d958b99abed8",
   "metadata": {},
   "outputs": [],
   "source": [
    "df_company.head(20)"
   ]
  },
  {
   "cell_type": "code",
   "execution_count": null,
   "id": "9f08c912-0849-428d-8642-4a7b7d70f012",
   "metadata": {},
   "outputs": [],
   "source": [
    "df_degrees.info()"
   ]
  },
  {
   "cell_type": "code",
   "execution_count": null,
   "id": "325988f5-84c1-474a-a71e-88191c2a9cc8",
   "metadata": {},
   "outputs": [],
   "source": [
    "df_degrees.head()"
   ]
  },
  {
   "cell_type": "code",
   "execution_count": null,
   "id": "e98120d1-6131-47a2-966b-628b258454d8",
   "metadata": {},
   "outputs": [],
   "source": [
    "df_education.info()"
   ]
  },
  {
   "cell_type": "code",
   "execution_count": null,
   "id": "7d003081-e57c-41e7-9cc9-d51e5287772c",
   "metadata": {},
   "outputs": [],
   "source": [
    "df_education.head(15)"
   ]
  },
  {
   "cell_type": "code",
   "execution_count": null,
   "id": "219be2e4-f964-4970-92b5-ca1c9900a3d4",
   "metadata": {},
   "outputs": [],
   "source": [
    "df_fund.info()"
   ]
  },
  {
   "cell_type": "code",
   "execution_count": null,
   "id": "acb408d2-6c8a-4e3d-a84d-f23fe62f6ab2",
   "metadata": {},
   "outputs": [],
   "source": [
    "df_fund.head()"
   ]
  },
  {
   "cell_type": "code",
   "execution_count": null,
   "id": "0fb5d8aa-d44b-4f21-8d33-75b317b3adbc",
   "metadata": {},
   "outputs": [],
   "source": [
    "df_investment.info()"
   ]
  },
  {
   "cell_type": "code",
   "execution_count": null,
   "id": "e1417a47-f98b-44ee-8be8-b581f148bfb9",
   "metadata": {},
   "outputs": [],
   "source": [
    "df_investment.head()"
   ]
  },
  {
   "cell_type": "code",
   "execution_count": null,
   "id": "cbb37056-dad6-4854-a65d-fda391838c96",
   "metadata": {},
   "outputs": [],
   "source": [
    "df_people.info()"
   ]
  },
  {
   "cell_type": "code",
   "execution_count": null,
   "id": "0deec5f8-3b40-412a-9209-892ceb4978e0",
   "metadata": {},
   "outputs": [],
   "source": [
    "df_people.head(35)"
   ]
  },
  {
   "cell_type": "markdown",
   "id": "7e604447-a951-4e35-9534-2ade16de65e0",
   "metadata": {},
   "source": [
    "После вывода общей информации о датасетах мы видим проблему в названии переменных в датасете df_company, приведем их к стилю snake case"
   ]
  },
  {
   "cell_type": "code",
   "execution_count": null,
   "id": "02ac49d4-06d5-4a1c-9ae0-cf5bf7cccdbf",
   "metadata": {},
   "outputs": [],
   "source": [
    "df_company.columns"
   ]
  },
  {
   "cell_type": "code",
   "execution_count": null,
   "id": "2f42a972-36b9-4dd9-911f-c223c5cbf577",
   "metadata": {},
   "outputs": [],
   "source": [
    "snake_case_columns = ['company_id', 'name', 'category_code', 'status', 'founded_at',\n",
    "       'closed_at', 'domain', 'network_username', 'country_code',\n",
    "       'investment_rounds', 'funding_rounds', 'funding_total', 'milestones',\n",
    "       'funding_round_id', 'company_id', 'funded_at',\n",
    "       'funding_round_type', 'raised_amount', 'pre_money_valuation',\n",
    "       'participants', 'is_first_round', 'is_last_round']\n",
    "df_company.columns = snake_case_columns\n",
    "df_company.columns"
   ]
  },
  {
   "cell_type": "markdown",
   "id": "29372ab1-b618-4046-a715-40b4562e3843",
   "metadata": {},
   "source": [
    "Провели изменение названий переменных"
   ]
  },
  {
   "cell_type": "markdown",
   "id": "008f49fe-447e-42fe-96cb-c515a97f2050",
   "metadata": {},
   "source": [
    "### 1.2. Смена типов и анализ пропусков"
   ]
  },
  {
   "cell_type": "markdown",
   "id": "6d6f8261-adf8-4855-8290-3006a0d5e5c8",
   "metadata": {},
   "source": [
    "Видим, что столбцы с датами представлены типом данных object, что не позволяет выполнять с ними те операции, которые можно обычно выполнять с датами в pandas, приведем их к типу datetime64"
   ]
  },
  {
   "cell_type": "code",
   "execution_count": null,
   "id": "b1758525-159b-4292-8d87-0b44ece69487",
   "metadata": {},
   "outputs": [],
   "source": [
    "df_acquisition['acquired_at'] = df_acquisition['acquired_at'].astype('datetime64[ns]')"
   ]
  },
  {
   "cell_type": "code",
   "execution_count": null,
   "id": "27261eb5-adb1-4adc-be11-77e347be4934",
   "metadata": {},
   "outputs": [],
   "source": [
    "df_acquisition.info()"
   ]
  },
  {
   "cell_type": "code",
   "execution_count": null,
   "id": "42662689-55a8-4436-a42b-83634e8e3c2b",
   "metadata": {},
   "outputs": [],
   "source": [
    "df_fund['founded_at'] = df_fund['founded_at'].astype('datetime64[ns]')"
   ]
  },
  {
   "cell_type": "code",
   "execution_count": null,
   "id": "ea0891d4-9ea8-4180-8c56-3029814b6cb4",
   "metadata": {},
   "outputs": [],
   "source": [
    "df_fund.info()"
   ]
  },
  {
   "cell_type": "code",
   "execution_count": null,
   "id": "bca2f891-f758-421b-9e83-40660a307a46",
   "metadata": {},
   "outputs": [],
   "source": [
    "name_array = ['founded_at', 'closed_at', 'funded_at']\n",
    "for name in name_array:\n",
    "    df_company[name] = df_company[name].astype('datetime64[ns]')"
   ]
  },
  {
   "cell_type": "code",
   "execution_count": null,
   "id": "608eb89b-13cf-4ccb-bc7e-e5407431586f",
   "metadata": {},
   "outputs": [],
   "source": [
    "df_company.info()"
   ]
  },
  {
   "cell_type": "markdown",
   "id": "6c767531-21f5-48b0-8f6d-194bc5dd7ebc",
   "metadata": {},
   "source": [
    "Мы успешно поменяли тип данных на datetime64[ns] в необходимых местах"
   ]
  },
  {
   "cell_type": "markdown",
   "id": "50af000f-cfd9-4ab7-8d56-0b2612259b15",
   "metadata": {},
   "source": [
    "Полнота данных является достаточной для выполнения задач проекта"
   ]
  },
  {
   "cell_type": "markdown",
   "id": "2c5b81fc-735c-4ab1-be7c-5e603c881013",
   "metadata": {},
   "source": [
    "## Шаг 2. Предобработка данных, предварительное исследование"
   ]
  },
  {
   "cell_type": "markdown",
   "id": "ee6fc156-bb5a-4a9d-9a90-b2fb4e52d0c0",
   "metadata": {},
   "source": [
    "### 2.1. Раунды финансирования по годам\n",
    "\n",
    "Задание необходимо выполнить без объединения и дополнительной предобработки на основе датасета `company_and_rounds.csv`.\n",
    "\n",
    "* Составьте сводную таблицу по годам, в которой на основании столбца `raised_amount` для каждого года указан:\n",
    "\n",
    "  * типичный размер средств, выделяемый в рамках одного раунда;\n",
    "  * общее количество раундов финансирования за этот год.\n",
    "\n",
    "* Оставьте в таблице информацию только для тех лет, для которых есть информация о более чем 50 раундах финансирования.\n",
    "\n",
    "* На основе получившейся таблицы постройте график, который будет отражать динамику типичного размера средств, которые стартапы получали в рамках одного раунда финансирования.\n",
    "\n",
    "На основе полученных данных ответьте на вопросы:\n",
    "\n",
    "* В каком году типичный размер собранных в рамках одного раунда средств был максимален?\n",
    "\n",
    "* Какая тенденция по количеству раундов и выделяемых в рамках каждого раунда средств наблюдалась в 2013 году?"
   ]
  },
  {
   "cell_type": "code",
   "execution_count": null,
   "id": "866d54a8-fe4d-427e-bc3b-0870de711302",
   "metadata": {},
   "outputs": [],
   "source": [
    "df_company['year'] = df_company['funded_at'].dt.year\n",
    "\n",
    "summary = df_company.pivot_table(\n",
    "    index='year', \n",
    "    values='raised_amount', \n",
    "    aggfunc=['median', 'count']\n",
    ").reset_index()\n",
    "summary.columns = ['year', 'typical_raised_amount', 'num_rounds']\n",
    "summary = summary[summary['num_rounds'] > 50]\n",
    "display(summary)\n",
    "plt.figure(figsize=(12, 6))\n",
    "plt.plot(summary['year'], summary['typical_raised_amount'], marker='o', linestyle='-', color='b')\n",
    "plt.xlabel(\"Год\")\n",
    "plt.ylabel(\"Типичный размер инвестиций ($)\")\n",
    "plt.title(\"Динамика типичного размера инвестиций в рамках одного раунда\")\n",
    "plt.grid(True)\n",
    "plt.show()\n",
    "\n"
   ]
  },
  {
   "cell_type": "markdown",
   "id": "c3fa6807-c1b7-4322-91c6-c4a01729f314",
   "metadata": {},
   "source": [
    "Используя полученные результаты, можно сделать вывод, что типичный размер собранных в рамках одного раунда средств был максимален в 2005 году.\n",
    "А также видим, что в 2013 году наблюдалось увеличение количества раундов, а так же видим начало увеличения типичного размера средств собранных в рамках одного раунда после длительного спада"
   ]
  },
  {
   "cell_type": "markdown",
   "id": "6d499410-368e-468b-8703-94ea0cd3a74b",
   "metadata": {},
   "source": [
    "### 2.2. Люди и их образование\n",
    "\n",
    "Заказчик хочет понять, зависит ли полнота сведений о сотрудниках (например, об их образовании) от размера компаний.\n",
    "\n",
    "* Оцените, насколько информация об образовании сотрудников полна. Используя датасеты `people.csv` и `education.csv`, разделите все компании на несколько групп по количеству сотрудников и оцените среднюю долю сотрудников без информации об образовании в каждой из групп. Обоснуйте выбранные границы групп.\n",
    "\n",
    "* Оцените, возможно ли для выполнения задания присоединить к этим таблицам ещё и таблицу `degrees.csv`."
   ]
  },
  {
   "cell_type": "code",
   "execution_count": null,
   "id": "f0c2f2ae-7924-4ef7-8328-c1ac7c61ffbc",
   "metadata": {},
   "outputs": [],
   "source": []
  },
  {
   "cell_type": "code",
   "execution_count": null,
   "id": "195a28f6-aa9f-4c04-9d44-e8e0beaeed71",
   "metadata": {},
   "outputs": [],
   "source": [
    "df_edu_merged = pd.merge(df_people, df_education, left_on = 'id', right_on = 'person_id', how = 'left')\n",
    "df_edu_merged['has_education'] = df_edu_merged['instituition'].notna()\n",
    "\n",
    "df_company_edu = df_edu_merged.groupby('company_id').agg(\n",
    "    total_employees=('id_x', 'count'),  # Общее число сотрудников в компании\n",
    "    employees_with_higher_edu=('has_education', 'sum'),  # Число сотрудников с образованием\n",
    ")\n",
    "df_company_edu['employees_without_higher_edu'] = df_company_edu['total_employees'] - df_company_edu['employees_with_higher_edu']\n",
    "\n",
    "\n",
    "def categorize_company(size):\n",
    "    if size < 10:\n",
    "        return \"Маленькая\"\n",
    "    elif size < 100:\n",
    "        return \"Средняя\"\n",
    "    elif size < 1000:\n",
    "        return \"Крупная\"\n",
    "    else:\n",
    "        return \"Очень крупная\"\n",
    "        \n",
    "df_company_edu['company_size_group'] = df_company_edu['total_employees'].apply(categorize_company)\n",
    "df_company_edu['share_without_higher_edu'] = df_company_edu['employees_without_higher_edu'] / df_company_edu['total_employees']\n",
    "education_summary = df_company_edu.groupby('company_size_group')['share_without_higher_edu'].median().reset_index()\n",
    "\n",
    "education_summary.head()"
   ]
  },
  {
   "cell_type": "code",
   "execution_count": null,
   "id": "20c49a9c-731c-4790-8745-59c1350e69bd",
   "metadata": {},
   "outputs": [],
   "source": []
  },
  {
   "cell_type": "code",
   "execution_count": null,
   "id": "3dcae188-ee44-4d19-800b-a876655f93bf",
   "metadata": {},
   "outputs": [],
   "source": []
  },
  {
   "cell_type": "markdown",
   "id": "0df1a7bc-8946-42ce-87d4-cc46f3badcb9",
   "metadata": {},
   "source": [
    "После исследования мы можем сделать вывод, что больше всего людей без указанного высшего образования именно в маленьких компаниях. Я использовал для разделения на величину компаний лографимическое увеличение."
   ]
  },
  {
   "cell_type": "markdown",
   "id": "d8d4d9b3-6460-4a65-bac8-b97c3f5aaf6c",
   "metadata": {},
   "source": [
    "### 2.3. Объединять или не объединять — вот в чём вопрос\n",
    "\n",
    "Некоторые названия столбцов встречаются в датасетах чаще других. И, например, в результате предварительной проверки датасетов было выяснено, что столбец `company_id` подходит для объединения данных, так как большая часть значений встречается в разных датасетах не один, а несколько раз. Этот столбец может быть использован для объединения данных.\n",
    "\n",
    "* Установите, подходит ли для объединения данных столбец `network_username`, который встречается в нескольких датасетах. Нам необходимо понимать, дублируется ли для разных датасетов информация в столбцах с таким названием, и если да — то насколько часто.\n",
    "\n",
    "* Оцените, можно ли использовать столбцы с именем `network_username` для объединения данных."
   ]
  },
  {
   "cell_type": "markdown",
   "id": "a4d4abc9-24fd-4ec7-b866-624c93cd2051",
   "metadata": {},
   "source": [
    "Попробуем заджойнить датасеты по столбцам network_username для того, скорее всего они должны оказаться небольшими, так как в разных датасетах эти столбцы отвечают за разные вещи, где-то за username фонда, где-то за username пользователя в компании и т.д."
   ]
  },
  {
   "cell_type": "code",
   "execution_count": null,
   "id": "10ac410d-bba8-4b3b-9a7b-53ab7f2ac595",
   "metadata": {},
   "outputs": [],
   "source": [
    "df_company_clean = df_company.dropna(subset=['network_username'])\n",
    "df_people_clean = df_people.dropna(subset=['network_username'])\n",
    "df_fund_clean = df_fund.dropna(subset=['network_username'])\n",
    "df_company_people_merged = pd.merge(df_company_clean['network_username'], df_people_clean['network_username'], on = 'network_username', how = 'inner')\n",
    "df_company_people_merged.head(15)"
   ]
  },
  {
   "cell_type": "code",
   "execution_count": null,
   "id": "af7b2d1b-2336-4e21-9970-c22bfef920ab",
   "metadata": {},
   "outputs": [],
   "source": []
  }
 ],
 "metadata": {
  "kernelspec": {
   "display_name": "Python 3 (ipykernel)",
   "language": "python",
   "name": "python3"
  },
  "language_info": {
   "codemirror_mode": {
    "name": "ipython",
    "version": 3
   },
   "file_extension": ".py",
   "mimetype": "text/x-python",
   "name": "python",
   "nbconvert_exporter": "python",
   "pygments_lexer": "ipython3",
   "version": "3.13.1"
  }
 },
 "nbformat": 4,
 "nbformat_minor": 5
}
