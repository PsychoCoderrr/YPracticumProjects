{
 "cells": [
  {
   "cell_type": "markdown",
   "id": "f591a45c-aa20-46e2-b57e-d9029314f60f",
   "metadata": {},
   "source": [
    "# Напишите заголовок проекта здесь\n",
    "\n",
    "- Автор: Колдашев Виталий Андреевич\n",
    "- Дата: 31.12.2024\n",
    "- Ссылка на Github:"
   ]
  },
  {
   "cell_type": "code",
   "execution_count": null,
   "id": "1b81f2e0-a0e0-4258-81a0-a4262db75482",
   "metadata": {},
   "outputs": [],
   "source": []
  }
 ],
 "metadata": {
  "kernelspec": {
   "display_name": "Python 3 (ipykernel)",
   "language": "python",
   "name": "python3"
  },
  "language_info": {
   "codemirror_mode": {
    "name": "ipython",
    "version": 3
   },
   "file_extension": ".py",
   "mimetype": "text/x-python",
   "name": "python",
   "nbconvert_exporter": "python",
   "pygments_lexer": "ipython3",
   "version": "3.13.1"
  }
 },
 "nbformat": 4,
 "nbformat_minor": 5
}
