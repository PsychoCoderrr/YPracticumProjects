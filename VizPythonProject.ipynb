{
 "cells": [
  {
   "cell_type": "markdown",
   "id": "f591a45c-aa20-46e2-b57e-d9029314f60f",
   "metadata": {},
   "source": [
    "# Напишите заголовок проекта здесь\n",
    "\n",
    "- Автор: Колдашев Виталий Андреевич\n",
    "- Дата: 31.12.2024\n",
    "- Ссылка на Github: https://github.com/PsychoCoderrr/YPracticumProjects/blob/main/VizPythonProject.ipynb"
   ]
  },
  {
   "cell_type": "markdown",
   "id": "11034f49-0020-47ca-ba1e-a9738fc24314",
   "metadata": {},
   "source": [
    "### Цели и задачи проекта\n",
    "\n",
    "#### Цель проекта\n",
    "\n",
    "Цель проекта — провести исследовательский анализ рынка заведений общественного питания в Москве. Это поможет инвесторам фонда Shut Up and Take My Money принять обоснованное решение о формате заведения, его расположении, ценовом сегменте и других ключевых аспектах для запуска успешного бизнеса в этой области.\n",
    " \n",
    "#### Задачи проекта:\n",
    "  1. Анализ предоставленных данных:\n",
    "     - Изучить структуру и содержание данных о заведениях общественного питания и их средней ценовой категории.\n",
    "     - Проверить данные на наличие пропусков, дубликатов и ошибок, а также исправить их при необходимости.\n",
    "     - Привести данные к формату, удобному для анализа, включая выделение новых признаков.\n",
    "  2. Исследование характеристик рынка:\n",
    "     - Определить распределение категорий заведений (кафе, рестораны, бары и т. д.) и их количество.\n",
    "     - Исследовать распределение заведений по административным районам Москвы.\n",
    "     - Выяснить, какие категории заведений чаще являются сетевыми.\n",
    "     - Оценить количество посадочных мест в заведениях, выявить типичные значения и возможные аномалии.\n",
    "  3. Изучение рейтингов:\n",
    "     - Проанализировать средние рейтинги заведений по категориям и выявить различия между ними.\n",
    "     - Определить, с какими факторами (тип заведения, район, ценовой сегмент и т. д.) наиболее сильно коррелируют рейтинги.\n",
    "  4. Анализ ценового сегмента:\n",
    "     - Исследовать распределение среднего чека по районам Москвы.\n",
    "     - Сравнить цены в центральном административном округе с другими районами.\n",
    "     - Изучить зависимость стоимости чашки кофе от типа заведения и района.\n",
    "  6. Выявление популярных сетей:\n",
    "     - Найти топ-15 самых популярных сетей в Москве и изучить их категории.\n",
    "     - Рассчитать средний рейтинг для каждого из популярных брендов.\n",
    "  7. Итоговый вывод и рекомендации:\n",
    "      - Подготовить рекомендации для инвесторов по выбору.\n",
    "      - Обосновать выбор на основе результатов анализа данных."
   ]
  },
  {
   "cell_type": "markdown",
   "id": "23ee79b5-50a6-4b78-93dd-3e99ae7afe33",
   "metadata": {},
   "source": [
    "### Описание данных\n",
    "\n",
    "#### Датасет rest_info.csv\n",
    "- name - название заведения;\n",
    "- address - адрес заведения;\n",
    "- district — административный район, в котором находится заведение, например Центральный административный округ;\n",
    "- category — категория заведения, например «кафе», «пиццерия» или «кофейня»;\n",
    "- hours — информация о днях и часах работы;\n",
    "- rating — рейтинг заведения по оценкам пользователей в Яндекс Картах (высшая оценка — 5.0);\n",
    "- chain — число, выраженное 0 или 1, которое показывает, является ли заведение сетевым (для маленьких сетей могут встречаться ошибки):\n",
    "    * 0 — заведение не является сетевым;\n",
    "    * 1 — заведение является сетевым.\n",
    "- seats — количество посадочных мест.\n",
    "#### Датасет rest_price.csv\n",
    "- price — категория цен в заведении, например «средние», «ниже среднего», «выше среднего» и так далее;\n",
    "- avg_bill — строка, которая хранит среднюю стоимость заказа в виде диапазона, например:\n",
    "    * «Средний счёт: 1000–1500 ₽»;\n",
    "    * «Цена чашки капучино: 130–220 ₽»;\n",
    "    * «Цена бокала пива: 400–600 ₽».\n",
    "- middle_avg_bill — число с оценкой среднего чека, которое указано только для значений из столбца avg_bill, начинающихся с подстроки «Средний счёт»:\n",
    "    * Если в строке указан ценовой диапазон из двух значений, в столбец войдёт медиана этих двух значений.\n",
    "    * Если в строке указано одно число — цена без диапазона, то в столбец войдёт это число.\n",
    "    * Если значения нет или оно не начинается с подстроки «Средний счёт», то в столбец ничего не войдёт.\n",
    "- middle_coffee_cup — число с оценкой одной чашки капучино, которое указано только для значений из столбца avg_bill, начинающихся с подстроки «Цена одной чашки капучино»:\n",
    "    * Если в строке указан ценовой диапазон из двух значений, в столбец войдёт медиана этих двух значений.\n",
    "    * Если в строке указано одно число — цена без диапазона, то в столбец войдёт это число.\n",
    "    * Если значения нет или оно не начинается с подстроки «Цена одной чашки капучино», то в столбец ничего не войдёт."
   ]
  },
  {
   "cell_type": "markdown",
   "id": "3053a012-f418-481a-8933-e1771bcb5ec6",
   "metadata": {},
   "source": [
    "### Оглавление проекта\n",
    "\n",
    "- Загрузка данных\n",
    "- Предобработка данных\n",
    "- Исследовательский анализ данных\n",
    "- Итоговый вывод и рекомендации"
   ]
  },
  {
   "cell_type": "markdown",
   "id": "875f3cd2-f4cc-4ba2-9e9e-7ec6b7d7179a",
   "metadata": {},
   "source": [
    "## 1. Загрузка данных и знакомство с ними\n",
    "\n",
    "- Загрузите данные о заведениях общественного питания Москвы. Путь к файлам: `/datasets/rest_info.csv` и `/datasets/rest_price.csv`."
   ]
  },
  {
   "cell_type": "code",
   "execution_count": 1,
   "id": "a4a1f91e-9de3-4e3f-8d20-b5b1828204f5",
   "metadata": {},
   "outputs": [],
   "source": [
    "import pandas as pd"
   ]
  },
  {
   "cell_type": "code",
   "execution_count": 2,
   "id": "b891c96e-26a9-46b8-85b4-87f57a25a5d0",
   "metadata": {},
   "outputs": [],
   "source": [
    "df_info = pd.read_csv('https://code.s3.yandex.net//datasets/rest_info.csv')"
   ]
  },
  {
   "cell_type": "code",
   "execution_count": 3,
   "id": "2f9a403d-a88a-4b65-85d4-f0387a9fa915",
   "metadata": {},
   "outputs": [],
   "source": [
    "df_price = pd.read_csv('https://code.s3.yandex.net//datasets/rest_price.csv')"
   ]
  },
  {
   "cell_type": "markdown",
   "id": "5855d923-55cf-43a4-87c6-9ad1fe313836",
   "metadata": {},
   "source": [
    "- Познакомьтесь с данными и изучите общую информацию о них."
   ]
  },
  {
   "cell_type": "code",
   "execution_count": 4,
   "id": "85c5a357-6cc3-4ea4-87b7-eb0449c7558d",
   "metadata": {},
   "outputs": [
    {
     "data": {
      "text/html": [
       "<div>\n",
       "<style scoped>\n",
       "    .dataframe tbody tr th:only-of-type {\n",
       "        vertical-align: middle;\n",
       "    }\n",
       "\n",
       "    .dataframe tbody tr th {\n",
       "        vertical-align: top;\n",
       "    }\n",
       "\n",
       "    .dataframe thead th {\n",
       "        text-align: right;\n",
       "    }\n",
       "</style>\n",
       "<table border=\"1\" class=\"dataframe\">\n",
       "  <thead>\n",
       "    <tr style=\"text-align: right;\">\n",
       "      <th></th>\n",
       "      <th>id</th>\n",
       "      <th>name</th>\n",
       "      <th>category</th>\n",
       "      <th>address</th>\n",
       "      <th>district</th>\n",
       "      <th>hours</th>\n",
       "      <th>rating</th>\n",
       "      <th>chain</th>\n",
       "      <th>seats</th>\n",
       "    </tr>\n",
       "  </thead>\n",
       "  <tbody>\n",
       "    <tr>\n",
       "      <th>0</th>\n",
       "      <td>0c3e3439a8c64ea5bf6ecd6ca6ae19f0</td>\n",
       "      <td>WoWфли</td>\n",
       "      <td>кафе</td>\n",
       "      <td>Москва, улица Дыбенко, 7/1</td>\n",
       "      <td>Северный административный округ</td>\n",
       "      <td>ежедневно, 10:00–22:00</td>\n",
       "      <td>5.0</td>\n",
       "      <td>0</td>\n",
       "      <td>NaN</td>\n",
       "    </tr>\n",
       "    <tr>\n",
       "      <th>1</th>\n",
       "      <td>045780ada3474c57a2112e505d74b633</td>\n",
       "      <td>Четыре комнаты</td>\n",
       "      <td>ресторан</td>\n",
       "      <td>Москва, улица Дыбенко, 36, корп. 1</td>\n",
       "      <td>Северный административный округ</td>\n",
       "      <td>ежедневно, 10:00–22:00</td>\n",
       "      <td>4.5</td>\n",
       "      <td>0</td>\n",
       "      <td>4.0</td>\n",
       "    </tr>\n",
       "    <tr>\n",
       "      <th>2</th>\n",
       "      <td>1070b6b59144425896c65889347fcff6</td>\n",
       "      <td>Хазри</td>\n",
       "      <td>кафе</td>\n",
       "      <td>Москва, Клязьминская улица, 15</td>\n",
       "      <td>Северный административный округ</td>\n",
       "      <td>пн-чт 11:00–02:00; пт,сб 11:00–05:00; вс 11:00...</td>\n",
       "      <td>4.6</td>\n",
       "      <td>0</td>\n",
       "      <td>45.0</td>\n",
       "    </tr>\n",
       "    <tr>\n",
       "      <th>3</th>\n",
       "      <td>03ac7cd772104f65b58b349dc59f03ee</td>\n",
       "      <td>Dormouse Coffee Shop</td>\n",
       "      <td>кофейня</td>\n",
       "      <td>Москва, улица Маршала Федоренко, 12</td>\n",
       "      <td>Северный административный округ</td>\n",
       "      <td>ежедневно, 09:00–22:00</td>\n",
       "      <td>5.0</td>\n",
       "      <td>0</td>\n",
       "      <td>NaN</td>\n",
       "    </tr>\n",
       "    <tr>\n",
       "      <th>4</th>\n",
       "      <td>a163aada139c4c7f87b0b1c0b466a50f</td>\n",
       "      <td>Иль Марко</td>\n",
       "      <td>пиццерия</td>\n",
       "      <td>Москва, Правобережная улица, 1Б</td>\n",
       "      <td>Северный административный округ</td>\n",
       "      <td>ежедневно, 10:00–22:00</td>\n",
       "      <td>5.0</td>\n",
       "      <td>1</td>\n",
       "      <td>148.0</td>\n",
       "    </tr>\n",
       "  </tbody>\n",
       "</table>\n",
       "</div>"
      ],
      "text/plain": [
       "                                 id                  name  category  \\\n",
       "0  0c3e3439a8c64ea5bf6ecd6ca6ae19f0                WoWфли      кафе   \n",
       "1  045780ada3474c57a2112e505d74b633        Четыре комнаты  ресторан   \n",
       "2  1070b6b59144425896c65889347fcff6                 Хазри      кафе   \n",
       "3  03ac7cd772104f65b58b349dc59f03ee  Dormouse Coffee Shop   кофейня   \n",
       "4  a163aada139c4c7f87b0b1c0b466a50f             Иль Марко  пиццерия   \n",
       "\n",
       "                               address                         district  \\\n",
       "0           Москва, улица Дыбенко, 7/1  Северный административный округ   \n",
       "1   Москва, улица Дыбенко, 36, корп. 1  Северный административный округ   \n",
       "2       Москва, Клязьминская улица, 15  Северный административный округ   \n",
       "3  Москва, улица Маршала Федоренко, 12  Северный административный округ   \n",
       "4      Москва, Правобережная улица, 1Б  Северный административный округ   \n",
       "\n",
       "                                               hours  rating  chain  seats  \n",
       "0                             ежедневно, 10:00–22:00     5.0      0    NaN  \n",
       "1                             ежедневно, 10:00–22:00     4.5      0    4.0  \n",
       "2  пн-чт 11:00–02:00; пт,сб 11:00–05:00; вс 11:00...     4.6      0   45.0  \n",
       "3                             ежедневно, 09:00–22:00     5.0      0    NaN  \n",
       "4                             ежедневно, 10:00–22:00     5.0      1  148.0  "
      ]
     },
     "execution_count": 4,
     "metadata": {},
     "output_type": "execute_result"
    }
   ],
   "source": [
    "#вывод первых пяти строк датафрейма df_info\n",
    "df_info.head()"
   ]
  },
  {
   "cell_type": "code",
   "execution_count": 5,
   "id": "76ac60fe-e91d-479b-8567-482f222fcb53",
   "metadata": {},
   "outputs": [
    {
     "name": "stdout",
     "output_type": "stream",
     "text": [
      "<class 'pandas.core.frame.DataFrame'>\n",
      "RangeIndex: 8406 entries, 0 to 8405\n",
      "Data columns (total 9 columns):\n",
      " #   Column    Non-Null Count  Dtype  \n",
      "---  ------    --------------  -----  \n",
      " 0   id        8406 non-null   object \n",
      " 1   name      8406 non-null   object \n",
      " 2   category  8406 non-null   object \n",
      " 3   address   8406 non-null   object \n",
      " 4   district  8406 non-null   object \n",
      " 5   hours     7870 non-null   object \n",
      " 6   rating    8406 non-null   float64\n",
      " 7   chain     8406 non-null   int64  \n",
      " 8   seats     4795 non-null   float64\n",
      "dtypes: float64(2), int64(1), object(6)\n",
      "memory usage: 591.2+ KB\n"
     ]
    }
   ],
   "source": [
    "#вывод информации о датафрейме df_info\n",
    "df_info.info()"
   ]
  },
  {
   "cell_type": "code",
   "execution_count": 6,
   "id": "e0dc29ae-7e14-4425-a961-04284f2849fe",
   "metadata": {},
   "outputs": [
    {
     "data": {
      "text/html": [
       "<div>\n",
       "<style scoped>\n",
       "    .dataframe tbody tr th:only-of-type {\n",
       "        vertical-align: middle;\n",
       "    }\n",
       "\n",
       "    .dataframe tbody tr th {\n",
       "        vertical-align: top;\n",
       "    }\n",
       "\n",
       "    .dataframe thead th {\n",
       "        text-align: right;\n",
       "    }\n",
       "</style>\n",
       "<table border=\"1\" class=\"dataframe\">\n",
       "  <thead>\n",
       "    <tr style=\"text-align: right;\">\n",
       "      <th></th>\n",
       "      <th>id</th>\n",
       "      <th>price</th>\n",
       "      <th>avg_bill</th>\n",
       "      <th>middle_avg_bill</th>\n",
       "      <th>middle_coffee_cup</th>\n",
       "    </tr>\n",
       "  </thead>\n",
       "  <tbody>\n",
       "    <tr>\n",
       "      <th>0</th>\n",
       "      <td>045780ada3474c57a2112e505d74b633</td>\n",
       "      <td>выше среднего</td>\n",
       "      <td>Средний счёт:1500–1600 ₽</td>\n",
       "      <td>1550.0</td>\n",
       "      <td>NaN</td>\n",
       "    </tr>\n",
       "    <tr>\n",
       "      <th>1</th>\n",
       "      <td>1070b6b59144425896c65889347fcff6</td>\n",
       "      <td>средние</td>\n",
       "      <td>Средний счёт:от 1000 ₽</td>\n",
       "      <td>1000.0</td>\n",
       "      <td>NaN</td>\n",
       "    </tr>\n",
       "    <tr>\n",
       "      <th>2</th>\n",
       "      <td>03ac7cd772104f65b58b349dc59f03ee</td>\n",
       "      <td>NaN</td>\n",
       "      <td>Цена чашки капучино:155–185 ₽</td>\n",
       "      <td>NaN</td>\n",
       "      <td>170.0</td>\n",
       "    </tr>\n",
       "    <tr>\n",
       "      <th>3</th>\n",
       "      <td>a163aada139c4c7f87b0b1c0b466a50f</td>\n",
       "      <td>средние</td>\n",
       "      <td>Средний счёт:400–600 ₽</td>\n",
       "      <td>500.0</td>\n",
       "      <td>NaN</td>\n",
       "    </tr>\n",
       "    <tr>\n",
       "      <th>4</th>\n",
       "      <td>8a343546b24e4a499ad96eb7d0797a8a</td>\n",
       "      <td>средние</td>\n",
       "      <td>NaN</td>\n",
       "      <td>NaN</td>\n",
       "      <td>NaN</td>\n",
       "    </tr>\n",
       "  </tbody>\n",
       "</table>\n",
       "</div>"
      ],
      "text/plain": [
       "                                 id          price  \\\n",
       "0  045780ada3474c57a2112e505d74b633  выше среднего   \n",
       "1  1070b6b59144425896c65889347fcff6        средние   \n",
       "2  03ac7cd772104f65b58b349dc59f03ee            NaN   \n",
       "3  a163aada139c4c7f87b0b1c0b466a50f        средние   \n",
       "4  8a343546b24e4a499ad96eb7d0797a8a        средние   \n",
       "\n",
       "                        avg_bill  middle_avg_bill  middle_coffee_cup  \n",
       "0       Средний счёт:1500–1600 ₽           1550.0                NaN  \n",
       "1         Средний счёт:от 1000 ₽           1000.0                NaN  \n",
       "2  Цена чашки капучино:155–185 ₽              NaN              170.0  \n",
       "3         Средний счёт:400–600 ₽            500.0                NaN  \n",
       "4                            NaN              NaN                NaN  "
      ]
     },
     "execution_count": 6,
     "metadata": {},
     "output_type": "execute_result"
    }
   ],
   "source": [
    "#вывод первых пяти строк датафрейма df_price\n",
    "df_price.head()"
   ]
  },
  {
   "cell_type": "code",
   "execution_count": 7,
   "id": "aaefe4e9-7476-4646-a8b3-543af8cecfd6",
   "metadata": {},
   "outputs": [
    {
     "name": "stdout",
     "output_type": "stream",
     "text": [
      "<class 'pandas.core.frame.DataFrame'>\n",
      "RangeIndex: 4058 entries, 0 to 4057\n",
      "Data columns (total 5 columns):\n",
      " #   Column             Non-Null Count  Dtype  \n",
      "---  ------             --------------  -----  \n",
      " 0   id                 4058 non-null   object \n",
      " 1   price              3315 non-null   object \n",
      " 2   avg_bill           3816 non-null   object \n",
      " 3   middle_avg_bill    3149 non-null   float64\n",
      " 4   middle_coffee_cup  535 non-null    float64\n",
      "dtypes: float64(2), object(3)\n",
      "memory usage: 158.6+ KB\n"
     ]
    }
   ],
   "source": [
    "#вывод информации о датафрейме df_price\n",
    "df_price.info()"
   ]
  },
  {
   "cell_type": "markdown",
   "id": "8f73a6d6-4ab6-44a9-9761-f577832af0fd",
   "metadata": {},
   "source": [
    "### Промежуточный вывод\n",
    "\n",
    "Сделайте промежуточный вывод о полученных данных: данные какого объёма вам предоставили, соответствуют ли данные описанию, встречаются ли в них пропуски, используются ли верные типы данных. Отметьте другие особенности данных, которые вы обнаружите на этой стадии и на которые стоит обратить внимание при предобработке."
   ]
  },
  {
   "cell_type": "markdown",
   "id": "3423a7c6-73e3-4f34-974e-8c21e61a04bd",
   "metadata": {},
   "source": [
    "Первый вывод, который можно сделать сразу по обоим датафреймам это то, что везде используются корректные названия, соблюдается snake case"
   ]
  },
  {
   "cell_type": "markdown",
   "id": "123b04ef-02c5-40a6-9f4b-4421693c4978",
   "metadata": {},
   "source": [
    "Дальше по датафрейму df_info можно сделать вывод, что общее кол-во строк равно 8046, мы видим пропуски в столбцах hours и seats, типы данных в этом датафрейме используются правильные"
   ]
  },
  {
   "cell_type": "markdown",
   "id": "8048adda-1ab1-475f-9ed8-e1c7a74cc4df",
   "metadata": {},
   "source": [
    "В датафрейме df_price мы видим общее кол-во строк 4058, а так же то, что пропуски есть во всех стобцах, кроме id, типы данных используются правильные везде"
   ]
  },
  {
   "cell_type": "markdown",
   "id": "c9c008d0-9254-42e4-9d1e-fff3e6d5b015",
   "metadata": {},
   "source": [
    "### Подготовка единого датафрейма\n",
    "\n",
    "- Объедините данные двух датасетов в один, с которым вы и продолжите работу."
   ]
  },
  {
   "cell_type": "code",
   "execution_count": 8,
   "id": "111e7d3a-e6ce-4569-8086-3be8a782bb72",
   "metadata": {},
   "outputs": [],
   "source": [
    "df_merged = pd.merge(df_info, df_price, on='id')"
   ]
  },
  {
   "cell_type": "markdown",
   "id": "c99cda58-cafb-4946-bc3e-5d85cc53dd64",
   "metadata": {},
   "source": [
    "## 2. Предобработка данных\n",
    "\n",
    "Подготовьте данные к исследовательскому анализу:\n",
    "\n",
    "- Изучите корректность типов данных и при необходимости проведите их преобразование."
   ]
  },
  {
   "cell_type": "code",
   "execution_count": 9,
   "id": "2fb9ae2d-3622-4b93-9570-d8cef4463241",
   "metadata": {},
   "outputs": [
    {
     "name": "stdout",
     "output_type": "stream",
     "text": [
      "<class 'pandas.core.frame.DataFrame'>\n",
      "RangeIndex: 4058 entries, 0 to 4057\n",
      "Data columns (total 13 columns):\n",
      " #   Column             Non-Null Count  Dtype  \n",
      "---  ------             --------------  -----  \n",
      " 0   id                 4058 non-null   object \n",
      " 1   name               4058 non-null   object \n",
      " 2   category           4058 non-null   object \n",
      " 3   address            4058 non-null   object \n",
      " 4   district           4058 non-null   object \n",
      " 5   hours              4050 non-null   object \n",
      " 6   rating             4058 non-null   float64\n",
      " 7   chain              4058 non-null   int64  \n",
      " 8   seats              2519 non-null   float64\n",
      " 9   price              3315 non-null   object \n",
      " 10  avg_bill           3816 non-null   object \n",
      " 11  middle_avg_bill    3149 non-null   float64\n",
      " 12  middle_coffee_cup  535 non-null    float64\n",
      "dtypes: float64(4), int64(1), object(8)\n",
      "memory usage: 412.3+ KB\n"
     ]
    }
   ],
   "source": [
    "df_merged.info()"
   ]
  },
  {
   "cell_type": "markdown",
   "id": "bf7261f0-119e-4555-9fc9-cbb9f42a3c05",
   "metadata": {},
   "source": [
    "Типы данных в датафрейме корректны"
   ]
  },
  {
   "cell_type": "markdown",
   "id": "8d385246-2af6-4f5d-940c-d155b6d013cd",
   "metadata": {},
   "source": [
    "- Изучите пропущенные значения в данных: посчитайте их количество в каждом столбце датафрейме, изучите данные с пропущенными значениями и предположите гипотезы их появления. Проведите обработку пропущенных значений: вы можете заменить пропуски на определённое значение, удалить строки с пропусками или оставить их как есть."
   ]
  },
  {
   "cell_type": "code",
   "execution_count": 10,
   "id": "84de0131-9538-40a8-989f-7f44c6fc030d",
   "metadata": {},
   "outputs": [
    {
     "data": {
      "text/plain": [
       "id                      0\n",
       "name                    0\n",
       "category                0\n",
       "address                 0\n",
       "district                0\n",
       "hours                   8\n",
       "rating                  0\n",
       "chain                   0\n",
       "seats                1539\n",
       "price                 743\n",
       "avg_bill              242\n",
       "middle_avg_bill       909\n",
       "middle_coffee_cup    3523\n",
       "dtype: int64"
      ]
     },
     "execution_count": 10,
     "metadata": {},
     "output_type": "execute_result"
    }
   ],
   "source": [
    "#абсолютные значения кол-ва пропусков в столбцах\n",
    "missing_absolute = df_merged.isna().sum()\n",
    "missing_absolute"
   ]
  },
  {
   "cell_type": "code",
   "execution_count": 11,
   "id": "98d9885b-9ae4-4bd9-b125-204db3c096a5",
   "metadata": {},
   "outputs": [
    {
     "data": {
      "text/plain": [
       "id                    0.000000\n",
       "name                  0.000000\n",
       "category              0.000000\n",
       "address               0.000000\n",
       "district              0.000000\n",
       "hours                 0.197141\n",
       "rating                0.000000\n",
       "chain                 0.000000\n",
       "seats                37.925086\n",
       "price                18.309512\n",
       "avg_bill              5.963529\n",
       "middle_avg_bill      22.400197\n",
       "middle_coffee_cup    86.816166\n",
       "dtype: float64"
      ]
     },
     "execution_count": 11,
     "metadata": {},
     "output_type": "execute_result"
    }
   ],
   "source": [
    "#относительное кол-во пропусков, выраженное в процентах\n",
    "missing_relative = df_merged.isna().sum() / len(df_merged) * 100\n",
    "missing_relative"
   ]
  },
  {
   "cell_type": "markdown",
   "id": "54aa9b49-8dad-470d-a6ac-6cd8655346de",
   "metadata": {},
   "source": [
    "Видим, что пропусков в столбцах hours и avg_bill мало, их можно будет просто удалить, пропуски в столбцах seats, middle_avg_bill и middle_coffee_cup можно будет заменить на -1, а пропуски в столбце price оставить, их можно было бы заполнить, основываясь на столбцах middle_avg_bill и middle_coffee_cup, однако мы не знаем точные категориальные рамки, а если мы начнем придумывать их сами, то можем внести неправильные данные в наш датафрейм"
   ]
  },
  {
   "cell_type": "code",
   "execution_count": 12,
   "id": "8a8d91a3-2ea8-47a2-95e7-7f213dd409b4",
   "metadata": {},
   "outputs": [
    {
     "data": {
      "text/plain": [
       "4058"
      ]
     },
     "execution_count": 12,
     "metadata": {},
     "output_type": "execute_result"
    }
   ],
   "source": [
    "#посчитаем кол-во строк, которое было до удаления пропусков\n",
    "start_str_count = df_merged.shape[0]\n",
    "start_str_count "
   ]
  },
  {
   "cell_type": "code",
   "execution_count": 13,
   "id": "0ade1ca3-a915-40dd-a172-065638ac100b",
   "metadata": {},
   "outputs": [],
   "source": [
    "#произведем удаление пропусков\n",
    "df_merged = df_merged.dropna(subset=['hours', 'avg_bill'])"
   ]
  },
  {
   "cell_type": "code",
   "execution_count": 14,
   "id": "d5b7eb79-8e32-441c-8e6c-91725c66da94",
   "metadata": {},
   "outputs": [
    {
     "data": {
      "text/plain": [
       "3808"
      ]
     },
     "execution_count": 14,
     "metadata": {},
     "output_type": "execute_result"
    }
   ],
   "source": [
    "#посчитаем кол-во строк, которое осталось после удаления пропусков\n",
    "intermediate_str_count = df_merged.shape[0]\n",
    "intermediate_str_count"
   ]
  },
  {
   "cell_type": "code",
   "execution_count": 15,
   "id": "dfd2322c-d5fd-4763-8ad7-90f0e4078b8a",
   "metadata": {},
   "outputs": [
    {
     "data": {
      "text/plain": [
       "250"
      ]
     },
     "execution_count": 15,
     "metadata": {},
     "output_type": "execute_result"
    }
   ],
   "source": [
    "#посчитаем кол-во строк, которое было удалено\n",
    "start_str_count - intermediate_str_count"
   ]
  },
  {
   "cell_type": "code",
   "execution_count": 16,
   "id": "13a367a4-1223-4b9a-9588-28bd80967636",
   "metadata": {},
   "outputs": [
    {
     "name": "stdout",
     "output_type": "stream",
     "text": [
      "<class 'pandas.core.frame.DataFrame'>\n",
      "Index: 3808 entries, 0 to 4057\n",
      "Data columns (total 13 columns):\n",
      " #   Column             Non-Null Count  Dtype  \n",
      "---  ------             --------------  -----  \n",
      " 0   id                 3808 non-null   object \n",
      " 1   name               3808 non-null   object \n",
      " 2   category           3808 non-null   object \n",
      " 3   address            3808 non-null   object \n",
      " 4   district           3808 non-null   object \n",
      " 5   hours              3808 non-null   object \n",
      " 6   rating             3808 non-null   float64\n",
      " 7   chain              3808 non-null   int64  \n",
      " 8   seats              3808 non-null   float64\n",
      " 9   price              3068 non-null   object \n",
      " 10  avg_bill           3808 non-null   object \n",
      " 11  middle_avg_bill    3808 non-null   float64\n",
      " 12  middle_coffee_cup  3808 non-null   float64\n",
      "dtypes: float64(4), int64(1), object(8)\n",
      "memory usage: 416.5+ KB\n"
     ]
    }
   ],
   "source": [
    "array = ['seats', 'middle_avg_bill', 'middle_coffee_cup']\n",
    "for i in array:\n",
    "    df_merged[i] = df_merged[i].fillna(-1) \n",
    "#вывод информации для проверки корректности заполнения пропусков\n",
    "df_merged.info()"
   ]
  },
  {
   "cell_type": "markdown",
   "id": "f8b33585-2e23-4d96-86f4-8b85765b615f",
   "metadata": {},
   "source": [
    "- Проверьте данные на явные и неявные дубликаты, например поля с названием и адресом заведения. Для оптимизации проверки нормализуйте данные в текстовых столбцах, например с названием заведения."
   ]
  },
  {
   "cell_type": "code",
   "execution_count": 17,
   "id": "af3f2b39-9d71-427f-948d-beebb233bee5",
   "metadata": {},
   "outputs": [
    {
     "data": {
      "text/plain": [
       "array(['ресторан', 'кафе', 'кофейня', 'пиццерия', 'бар,паб',\n",
       "       'быстрое питание', 'столовая', 'булочная'], dtype=object)"
      ]
     },
     "execution_count": 17,
     "metadata": {},
     "output_type": "execute_result"
    }
   ],
   "source": [
    "unique_category = df_merged['category'].unique()\n",
    "unique_category"
   ]
  },
  {
   "cell_type": "code",
   "execution_count": 18,
   "id": "37af5ca7-6861-4221-9533-a7774a606f4b",
   "metadata": {},
   "outputs": [
    {
     "data": {
      "text/plain": [
       "array(['Северный административный округ',\n",
       "       'Северо-Восточный административный округ',\n",
       "       'Северо-Западный административный округ',\n",
       "       'Западный административный округ',\n",
       "       'Центральный административный округ',\n",
       "       'Восточный административный округ',\n",
       "       'Юго-Восточный административный округ',\n",
       "       'Южный административный округ',\n",
       "       'Юго-Западный административный округ'], dtype=object)"
      ]
     },
     "execution_count": 18,
     "metadata": {},
     "output_type": "execute_result"
    }
   ],
   "source": [
    "unique_district = df_merged['district'].unique()\n",
    "unique_district"
   ]
  },
  {
   "cell_type": "markdown",
   "id": "aee43f3a-effe-4998-9813-ddcccba99da8",
   "metadata": {},
   "source": [
    "Мы видим, что в столбцах category и district можно не проводить нормализацию данных, соответственно проведем ее для адресов и названий заведений"
   ]
  },
  {
   "cell_type": "code",
   "execution_count": 19,
   "id": "e79a57a9-d969-4343-8ec1-4f5d16677b20",
   "metadata": {},
   "outputs": [],
   "source": [
    "for i in ['name', 'address']:\n",
    "    df_merged[i] = df_merged[i].str.lower()"
   ]
  },
  {
   "cell_type": "code",
   "execution_count": 20,
   "id": "aa80889c-db00-471c-a812-6357a4e71180",
   "metadata": {},
   "outputs": [
    {
     "name": "stdout",
     "output_type": "stream",
     "text": [
      "<class 'pandas.core.frame.DataFrame'>\n",
      "Index: 3808 entries, 0 to 4057\n",
      "Data columns (total 13 columns):\n",
      " #   Column             Non-Null Count  Dtype  \n",
      "---  ------             --------------  -----  \n",
      " 0   id                 3808 non-null   object \n",
      " 1   name               3808 non-null   object \n",
      " 2   category           3808 non-null   object \n",
      " 3   address            3808 non-null   object \n",
      " 4   district           3808 non-null   object \n",
      " 5   hours              3808 non-null   object \n",
      " 6   rating             3808 non-null   float64\n",
      " 7   chain              3808 non-null   int64  \n",
      " 8   seats              3808 non-null   float64\n",
      " 9   price              3068 non-null   object \n",
      " 10  avg_bill           3808 non-null   object \n",
      " 11  middle_avg_bill    3808 non-null   float64\n",
      " 12  middle_coffee_cup  3808 non-null   float64\n",
      "dtypes: float64(4), int64(1), object(8)\n",
      "memory usage: 416.5+ KB\n"
     ]
    }
   ],
   "source": [
    "#проводим удаление дубликатов\n",
    "df_merged.drop_duplicates()\n",
    "df_merged.info()"
   ]
  },
  {
   "cell_type": "code",
   "execution_count": 21,
   "id": "c7f2c800-7c10-4729-b993-861653c00c9c",
   "metadata": {},
   "outputs": [
    {
     "data": {
      "text/plain": [
       "3808"
      ]
     },
     "execution_count": 21,
     "metadata": {},
     "output_type": "execute_result"
    }
   ],
   "source": [
    "#посчитаем кол-во строк в после удаления дубликатов\n",
    "final_str_count = df_merged.shape[0]\n",
    "final_str_count"
   ]
  },
  {
   "cell_type": "code",
   "execution_count": 22,
   "id": "876aad4b-4a45-401a-a17e-79d9c9645677",
   "metadata": {},
   "outputs": [
    {
     "data": {
      "text/plain": [
       "250"
      ]
     },
     "execution_count": 22,
     "metadata": {},
     "output_type": "execute_result"
    }
   ],
   "source": [
    "#посчитаем кол-во удаленных строк в ходе предобработки данных в абсолютном значении\n",
    "deleted_str_count = start_str_count - final_str_count\n",
    "deleted_str_count"
   ]
  },
  {
   "cell_type": "code",
   "execution_count": 23,
   "id": "77d2f592-f2ec-4026-882f-310fbc8a1275",
   "metadata": {},
   "outputs": [
    {
     "data": {
      "text/plain": [
       "6.16"
      ]
     },
     "execution_count": 23,
     "metadata": {},
     "output_type": "execute_result"
    }
   ],
   "source": [
    "#посчитаем кол-во удаленных строк в относительном значении\n",
    "relative_deleted_str_count = round(deleted_str_count / start_str_count * 100, 2)\n",
    "relative_deleted_str_count"
   ]
  },
  {
   "cell_type": "code",
   "execution_count": null,
   "id": "488e47e5-e9b8-41c2-81fa-7da2d98b4ee7",
   "metadata": {},
   "outputs": [],
   "source": []
  },
  {
   "cell_type": "code",
   "execution_count": null,
   "id": "980a26fc-6327-4390-97ad-84405e76b8ae",
   "metadata": {},
   "outputs": [],
   "source": []
  }
 ],
 "metadata": {
  "kernelspec": {
   "display_name": "Python 3 (ipykernel)",
   "language": "python",
   "name": "python3"
  },
  "language_info": {
   "codemirror_mode": {
    "name": "ipython",
    "version": 3
   },
   "file_extension": ".py",
   "mimetype": "text/x-python",
   "name": "python",
   "nbconvert_exporter": "python",
   "pygments_lexer": "ipython3",
   "version": "3.13.1"
  }
 },
 "nbformat": 4,
 "nbformat_minor": 5
}
